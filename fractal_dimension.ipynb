{
 "metadata": {
  "language_info": {
   "codemirror_mode": {
    "name": "ipython",
    "version": 3
   },
   "file_extension": ".py",
   "mimetype": "text/x-python",
   "name": "python",
   "nbconvert_exporter": "python",
   "pygments_lexer": "ipython3",
   "version": "3.8.6"
  },
  "orig_nbformat": 2,
  "kernelspec": {
   "name": "python386jvsc74a57bd0d991c9c04913f417b7346584b0efc20590fbe0edd5a50977fc8524f9af006852",
   "display_name": "Python 3.8.6 64-bit"
  }
 },
 "nbformat": 4,
 "nbformat_minor": 2,
 "cells": [
  {
   "cell_type": "code",
   "execution_count": 76,
   "metadata": {},
   "outputs": [],
   "source": [
    "from fbm import FBM\n",
    "import scipy.misc\n",
    "import numpy as np\n",
    "import nolds\n",
    "from time import time"
   ]
  },
  {
   "cell_type": "code",
   "execution_count": 95,
   "metadata": {},
   "outputs": [
    {
     "output_type": "stream",
     "name": "stdout",
     "text": [
      "71.05904412269592 1.9593192319561767\n"
     ]
    }
   ],
   "source": [
    "hurst = 0.05\n",
    "\n",
    "start = time()\n",
    "\n",
    "fbm = FBM(hurst=hurst, length=1, n=9999, method='cholesky')\n",
    "sample = fbm.fbm()\n",
    "\n",
    "end = time()\n",
    "h = nolds.corr_dim(sample, emb_dim=2)\n",
    "\n",
    "print(end - start, h)"
   ]
  },
  {
   "cell_type": "code",
   "execution_count": 98,
   "metadata": {},
   "outputs": [
    {
     "output_type": "stream",
     "name": "stdout",
     "text": [
      "66.48262643814087 0.7325771011893751\n"
     ]
    }
   ],
   "source": [
    "hurst = 0.8\n",
    "\n",
    "start = time()\n",
    "\n",
    "fbm = FBM(hurst=hurst, length=1, n=9999, method='cholesky')\n",
    "sample = fbm.fbm()\n",
    "\n",
    "end = time()\n",
    "h = nolds.corr_dim(sample, emb_dim=2)\n",
    "\n",
    "print(end - start, h)"
   ]
  },
  {
   "cell_type": "code",
   "execution_count": 96,
   "metadata": {},
   "outputs": [
    {
     "output_type": "stream",
     "name": "stdout",
     "text": [
      "118.22704482078552 1.9605627870366886\n"
     ]
    }
   ],
   "source": [
    "hurst = 0.05\n",
    "\n",
    "start = time()\n",
    "\n",
    "fbm = FBM(hurst=hurst, length=1, n=9999, method='hosking')\n",
    "sample = fbm.fbm()\n",
    "\n",
    "end = time()\n",
    "h = nolds.corr_dim(sample, emb_dim=2)\n",
    "\n",
    "print(end - start, h)"
   ]
  },
  {
   "cell_type": "code",
   "execution_count": 99,
   "metadata": {},
   "outputs": [
    {
     "output_type": "stream",
     "name": "stdout",
     "text": [
      "118.14460825920105 0.8631790064983745\n"
     ]
    }
   ],
   "source": [
    "hurst = 0.8\n",
    "\n",
    "start = time()\n",
    "\n",
    "fbm = FBM(hurst=hurst, length=1, n=9999, method='hosking')\n",
    "sample = fbm.fbm()\n",
    "\n",
    "end = time()\n",
    "h = nolds.corr_dim(sample, emb_dim=2)\n",
    "\n",
    "print(end - start, h)"
   ]
  },
  {
   "cell_type": "code",
   "execution_count": 100,
   "metadata": {},
   "outputs": [
    {
     "output_type": "stream",
     "name": "stdout",
     "text": [
      "0.20403838157653809 1.9622015032169717\n"
     ]
    }
   ],
   "source": [
    "hurst = 0.05\n",
    "\n",
    "start = time()\n",
    "\n",
    "fbm = FBM(hurst=hurst, length=1, n=9999, method='daviesharte')\n",
    "sample = fbm.fbm()\n",
    "\n",
    "end = time()\n",
    "h = nolds.corr_dim(sample, emb_dim=2)\n",
    "\n",
    "print(end - start, h)"
   ]
  },
  {
   "cell_type": "code",
   "execution_count": 101,
   "metadata": {},
   "outputs": [
    {
     "output_type": "stream",
     "name": "stdout",
     "text": [
      "0.19078755378723145 0.9480275706322209\n"
     ]
    }
   ],
   "source": [
    "hurst = 0.8\n",
    "\n",
    "start = time()\n",
    "\n",
    "fbm = FBM(hurst=hurst, length=1, n=9999, method='daviesharte')\n",
    "sample = fbm.fbm()\n",
    "\n",
    "end = time()\n",
    "h = nolds.corr_dim(sample, emb_dim=2)\n",
    "\n",
    "print(end - start, h)"
   ]
  }
 ]
}